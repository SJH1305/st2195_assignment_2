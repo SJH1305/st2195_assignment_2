{
 "cells": [
  {
   "cell_type": "code",
   "execution_count": 1,
   "id": "1dfb3beb-2a80-4324-8e46-0cd46b93349f",
   "metadata": {},
   "outputs": [],
   "source": [
    "# Import BeautifulSoup and Pandas libraries\n",
    "import requests\n",
    "from bs4 import BeautifulSoup\n",
    "import pandas as pd"
   ]
  },
  {
   "cell_type": "code",
   "execution_count": 3,
   "id": "64263e14-e267-4285-989a-b823afeae85e",
   "metadata": {},
   "outputs": [],
   "source": [
    "# Read HTML from Wiki page\n",
    "url = \"https://en.wikipedia.org/wiki/Comma-separated_values\"\n",
    "response = requests.get(url) \n",
    "soup = BeautifulSoup (response.text, \"html.parser\")"
   ]
  },
  {
   "cell_type": "code",
   "execution_count": 5,
   "id": "f069575c-3e8f-4726-85e0-86c67f9d085d",
   "metadata": {},
   "outputs": [],
   "source": [
    "# Extracts all tables\n",
    "tables = soup.find_all(\"table\")"
   ]
  },
  {
   "cell_type": "code",
   "execution_count": 7,
   "id": "7971d28b-3816-418e-98e3-22d46efe1139",
   "metadata": {},
   "outputs": [
    {
     "name": "stdout",
     "output_type": "stream",
     "text": [
      "Number of tables: 3\n"
     ]
    }
   ],
   "source": [
    "# Checks number of tables\n",
    "print(f\"Number of tables: {len(tables)}\")"
   ]
  },
  {
   "cell_type": "code",
   "execution_count": 11,
   "id": "68a503fd-6eb8-4cad-9b83-c512388451b3",
   "metadata": {},
   "outputs": [
    {
     "name": "stderr",
     "output_type": "stream",
     "text": [
      "/var/folders/fy/14hxgrm51svd16v3p0d6pz5h0000gn/T/ipykernel_2211/1023487932.py:4: FutureWarning: Passing literal html to 'read_html' is deprecated and will be removed in a future version. To read from a literal string, wrap it in a 'StringIO' object.\n",
      "  df = pd.read_html(table_html)[0]  # Read the table as a DataFrame\n"
     ]
    }
   ],
   "source": [
    "# Convert the first table to a pandas DataFrame\n",
    "# If you want a different table, adjust the index (e.g., tables[1] for the second table)\n",
    "table_html = str(tables[0])  # Select the first table\n",
    "df = pd.read_html(table_html)[0]  # Read the table as a DataFrame"
   ]
  },
  {
   "cell_type": "code",
   "execution_count": 13,
   "id": "4c333f31-d3ea-4e47-85f4-78c3611ba900",
   "metadata": {},
   "outputs": [
    {
     "data": {
      "text/html": [
       "<div>\n",
       "<style scoped>\n",
       "    .dataframe tbody tr th:only-of-type {\n",
       "        vertical-align: middle;\n",
       "    }\n",
       "\n",
       "    .dataframe tbody tr th {\n",
       "        vertical-align: top;\n",
       "    }\n",
       "\n",
       "    .dataframe thead th {\n",
       "        text-align: right;\n",
       "    }\n",
       "</style>\n",
       "<table border=\"1\" class=\"dataframe\">\n",
       "  <thead>\n",
       "    <tr style=\"text-align: right;\">\n",
       "      <th></th>\n",
       "      <th>0</th>\n",
       "      <th>1</th>\n",
       "    </tr>\n",
       "  </thead>\n",
       "  <tbody>\n",
       "    <tr>\n",
       "      <th>0</th>\n",
       "      <td>NaN</td>\n",
       "      <td>NaN</td>\n",
       "    </tr>\n",
       "    <tr>\n",
       "      <th>1</th>\n",
       "      <td>A simple CSV file listing three people and the...</td>\n",
       "      <td>A simple CSV file listing three people and the...</td>\n",
       "    </tr>\n",
       "    <tr>\n",
       "      <th>2</th>\n",
       "      <td>Filename extension</td>\n",
       "      <td>.csv</td>\n",
       "    </tr>\n",
       "    <tr>\n",
       "      <th>3</th>\n",
       "      <td>Internet media type</td>\n",
       "      <td>text/csv[6]</td>\n",
       "    </tr>\n",
       "    <tr>\n",
       "      <th>4</th>\n",
       "      <td>Uniform Type Identifier (UTI)</td>\n",
       "      <td>public.comma-separated-values-text[7]</td>\n",
       "    </tr>\n",
       "  </tbody>\n",
       "</table>\n",
       "</div>"
      ],
      "text/plain": [
       "                                                   0  \\\n",
       "0                                                NaN   \n",
       "1  A simple CSV file listing three people and the...   \n",
       "2                                 Filename extension   \n",
       "3                                Internet media type   \n",
       "4                      Uniform Type Identifier (UTI)   \n",
       "\n",
       "                                                   1  \n",
       "0                                                NaN  \n",
       "1  A simple CSV file listing three people and the...  \n",
       "2                                               .csv  \n",
       "3                                        text/csv[6]  \n",
       "4              public.comma-separated-values-text[7]  "
      ]
     },
     "execution_count": 13,
     "metadata": {},
     "output_type": "execute_result"
    }
   ],
   "source": [
    "# Display the DataFrame\n",
    "df.head()  # Shows the first few rows of the table"
   ]
  },
  {
   "cell_type": "code",
   "execution_count": 17,
   "id": "ce695977-e9b4-4617-87c0-61fefe7438b7",
   "metadata": {},
   "outputs": [
    {
     "name": "stderr",
     "output_type": "stream",
     "text": [
      "/var/folders/fy/14hxgrm51svd16v3p0d6pz5h0000gn/T/ipykernel_2211/3698226811.py:2: FutureWarning: Passing literal html to 'read_html' is deprecated and will be removed in a future version. To read from a literal string, wrap it in a 'StringIO' object.\n",
      "  df = pd.read_html(table_html)[0]\n"
     ]
    }
   ],
   "source": [
    "table_html = str(tables[1])\n",
    "df = pd.read_html(table_html)[0] "
   ]
  },
  {
   "cell_type": "code",
   "execution_count": 19,
   "id": "b8951ff0-b404-40ce-a615-a5aa1ddc2eb5",
   "metadata": {},
   "outputs": [
    {
     "data": {
      "text/html": [
       "<div>\n",
       "<style scoped>\n",
       "    .dataframe tbody tr th:only-of-type {\n",
       "        vertical-align: middle;\n",
       "    }\n",
       "\n",
       "    .dataframe tbody tr th {\n",
       "        vertical-align: top;\n",
       "    }\n",
       "\n",
       "    .dataframe thead th {\n",
       "        text-align: right;\n",
       "    }\n",
       "</style>\n",
       "<table border=\"1\" class=\"dataframe\">\n",
       "  <thead>\n",
       "    <tr style=\"text-align: right;\">\n",
       "      <th></th>\n",
       "      <th>Year</th>\n",
       "      <th>Make</th>\n",
       "      <th>Model</th>\n",
       "      <th>Description</th>\n",
       "      <th>Price</th>\n",
       "    </tr>\n",
       "  </thead>\n",
       "  <tbody>\n",
       "    <tr>\n",
       "      <th>0</th>\n",
       "      <td>1997</td>\n",
       "      <td>Ford</td>\n",
       "      <td>E350</td>\n",
       "      <td>ac, abs, moon</td>\n",
       "      <td>3000.0</td>\n",
       "    </tr>\n",
       "    <tr>\n",
       "      <th>1</th>\n",
       "      <td>1999</td>\n",
       "      <td>Chevy</td>\n",
       "      <td>Venture \"Extended Edition\"</td>\n",
       "      <td>NaN</td>\n",
       "      <td>4900.0</td>\n",
       "    </tr>\n",
       "    <tr>\n",
       "      <th>2</th>\n",
       "      <td>1999</td>\n",
       "      <td>Chevy</td>\n",
       "      <td>Venture \"Extended Edition, Very Large\"</td>\n",
       "      <td>NaN</td>\n",
       "      <td>5000.0</td>\n",
       "    </tr>\n",
       "    <tr>\n",
       "      <th>3</th>\n",
       "      <td>1996</td>\n",
       "      <td>Jeep</td>\n",
       "      <td>Grand Cherokee</td>\n",
       "      <td>MUST SELL! air, moon roof, loaded</td>\n",
       "      <td>4799.0</td>\n",
       "    </tr>\n",
       "  </tbody>\n",
       "</table>\n",
       "</div>"
      ],
      "text/plain": [
       "   Year   Make                                   Model  \\\n",
       "0  1997   Ford                                    E350   \n",
       "1  1999  Chevy              Venture \"Extended Edition\"   \n",
       "2  1999  Chevy  Venture \"Extended Edition, Very Large\"   \n",
       "3  1996   Jeep                          Grand Cherokee   \n",
       "\n",
       "                         Description   Price  \n",
       "0                      ac, abs, moon  3000.0  \n",
       "1                                NaN  4900.0  \n",
       "2                                NaN  5000.0  \n",
       "3  MUST SELL! air, moon roof, loaded  4799.0  "
      ]
     },
     "execution_count": 19,
     "metadata": {},
     "output_type": "execute_result"
    }
   ],
   "source": [
    "df.head() "
   ]
  },
  {
   "cell_type": "code",
   "execution_count": 23,
   "id": "1e2504a8-00c2-46f4-9038-a1dbc7796538",
   "metadata": {},
   "outputs": [
    {
     "name": "stdout",
     "output_type": "stream",
     "text": [
      "Second table extracted:\n",
      "Table saved as car_data.csv\n"
     ]
    },
    {
     "name": "stderr",
     "output_type": "stream",
     "text": [
      "/var/folders/fy/14hxgrm51svd16v3p0d6pz5h0000gn/T/ipykernel_2211/3077398620.py:1: FutureWarning: Passing literal html to 'read_html' is deprecated and will be removed in a future version. To read from a literal string, wrap it in a 'StringIO' object.\n",
      "  car_data = pd.read_html(table_html)[0]  # Convert the HTML table to a pandas DataFrame\n"
     ]
    }
   ],
   "source": [
    "# Now knowing that the 2nd table is the desired table: \n",
    "car_data = pd.read_html(table_html)[0]  # Convert the HTML table to a pandas DataFrame\n",
    "    print(\"Second table extracted:\")\n",
    "\n",
    "  # Save the extracted table as CSV\n",
    "    car_data.to_csv(\"car_data.csv\", index=False)  # Save the DataFrame to CSV without row numbers\n",
    "    print(\"Table saved as car_data.csv\")"
   ]
  },
  {
   "cell_type": "code",
   "execution_count": null,
   "id": "389f9f94-53fc-4b5f-aea4-7fb071feb304",
   "metadata": {},
   "outputs": [],
   "source": []
  }
 ],
 "metadata": {
  "kernelspec": {
   "display_name": "Python [conda env:base] *",
   "language": "python",
   "name": "conda-base-py"
  },
  "language_info": {
   "codemirror_mode": {
    "name": "ipython",
    "version": 3
   },
   "file_extension": ".py",
   "mimetype": "text/x-python",
   "name": "python",
   "nbconvert_exporter": "python",
   "pygments_lexer": "ipython3",
   "version": "3.12.7"
  }
 },
 "nbformat": 4,
 "nbformat_minor": 5
}
